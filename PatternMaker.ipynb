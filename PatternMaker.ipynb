{
 "cells": [
  {
   "cell_type": "code",
   "execution_count": 23,
   "metadata": {},
   "outputs": [],
   "source": [
    "# measurements\n",
    "Bust = 88\n",
    "Chest = 84\n",
    "Nape_to_waist = 40 \n",
    "Shoulder = 12\n",
    "Half_back = 17\n",
    "tolerance = 4\n",
    "\n",
    "# calculations\n",
    "M1_2 = Nape_to_waist\n",
    "M1_3 = 1/4 * M1_2\n",
    "M1_4 = 1/2 * M1_2 + 2.5\n",
    "M1_5 = 1/2 * Bust + tolerance\n",
    "M4_8 = 1/3 * Chest\n",
    "\n",
    "\n",
    "import svgwrite\n",
    "\n",
    "dwg = svgwrite.Drawing('test_pattern.svg', size=(M1_5,M1_5), profile='full')\n",
    "\n",
    "# point 1 to 2\n",
    "dwg.add(dwg.line((0, 0), (0, M1_2), stroke=svgwrite.rgb(0, 0, 0, 'RGB')))\n",
    "# point 1 to 5\n",
    "dwg.add(dwg.line((0, 0), (M1_5, 0), stroke=svgwrite.rgb(253,200,84, 'RGB')))\n",
    "# point 2 to 7\n",
    "dwg.add(dwg.line((0, M1_2), (M1_5, M1_2), stroke=svgwrite.rgb(253,200,84, 'RGB')))\n",
    "#point 7 to 5\n",
    "dwg.add(dwg.line((M1_5, M1_2), (M1_5, 0), stroke=svgwrite.rgb(253,200,84, 'RGB')))\n",
    "# horizontal line starting at point 3\n",
    "dwg.add(dwg.line((0, M1_3), (M1_5, M1_3 ), stroke=svgwrite.rgb(253,200,84, 'RGB')))\n",
    "#point 4 to 6\n",
    "dwg.add(dwg.line((0, M1_4), (M1_5, M1_4 ), stroke=svgwrite.rgb(253,200,84, 'RGB')))\n",
    "#point at 8\n",
    "dwg.add(dwg.circle((M4_8, M1_4), r=0.3, stroke=svgwrite.rgb(0,0,0, 'RGB'), stroke_width=0.2 ))\n",
    "#point at 9\n",
    "dwg.add(dwg.circle((Half_back, M1_4), r=0.3, stroke=svgwrite.rgb(0,0,0, 'RGB'), stroke_width=0.2 ))\n",
    "# point at 10 midway between 8 and 9\n",
    "PT_10 = (M4_8 + Half_back)/2\n",
    "dwg.add(dwg.circle((PT_10 , M1_4), r=0.3, stroke=svgwrite.rgb(0,0,0, 'RGB'), stroke_width=0.2 ))\n",
    "#point 9 to 11\n",
    "dwg.add(dwg.line((Half_back, M1_4), (Half_back, 0), stroke=svgwrite.rgb(253,200,84, 'RGB')))\n",
    "\n",
    "#save the drawing\n",
    "dwg.save()"
   ]
  },
  {
   "cell_type": "code",
   "execution_count": null,
   "metadata": {},
   "outputs": [],
   "source": []
  },
  {
   "cell_type": "code",
   "execution_count": null,
   "metadata": {},
   "outputs": [],
   "source": []
  }
 ],
 "metadata": {
  "kernelspec": {
   "display_name": "Python 3",
   "language": "python",
   "name": "python3"
  },
  "language_info": {
   "codemirror_mode": {
    "name": "ipython",
    "version": 3
   },
   "file_extension": ".py",
   "mimetype": "text/x-python",
   "name": "python",
   "nbconvert_exporter": "python",
   "pygments_lexer": "ipython3",
   "version": "3.6.5"
  }
 },
 "nbformat": 4,
 "nbformat_minor": 2
}
